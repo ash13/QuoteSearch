{
 "cells": [
  {
   "cell_type": "code",
   "execution_count": 1,
   "metadata": {},
   "outputs": [],
   "source": [
    "import pandas as pd"
   ]
  },
  {
   "cell_type": "code",
   "execution_count": 2,
   "metadata": {},
   "outputs": [],
   "source": [
    "class Quotes:\n",
    "    \n",
    "    def __init__(self, data):\n",
    "        \n",
    "        \"\"\"\n",
    "        data : Quotes dataset to be used for all the functionalities. \n",
    "        \"\"\"\n",
    "        self.quoteDataFile = data\n",
    "        self.dictData = None\n",
    "        \n",
    "    def getData(self):\n",
    "        \n",
    "        \"\"\"\n",
    "        This function reads the required data and keeps the required columns.\n",
    "        \n",
    "        \"\"\"\n",
    "        \n",
    "        self.quoteData = pd.read_csv(\"Data/\"+self.quoteDataFile)\n",
    "        self.quoteData = self.quoteData[['quote','authorOrigin']]\n",
    "        self.quoteData = self.quoteData[0:100]\n",
    "    \n",
    "    def prepareSearch(self):\n",
    "        \n",
    "        \"\"\"\n",
    "        This function prepares the data to be searched easily. It creates a dictionary with the quote data.\n",
    "        \n",
    "        Input:\n",
    "        searchData : Data to be modified for easy search.\n",
    "        \n",
    "        Returns:\n",
    "        dictData : Quotes data in the form of dictionary.\n",
    "        \n",
    "        \"\"\"\n",
    "        self.dictData = self.quoteData.set_index('quote').T.to_dict('list')\n",
    "        \n",
    "    def searchQuote(self, searchQuote):\n",
    "        \"\"\"\n",
    "        This function searches for the given quote. If found, then it returns the author and source ( if available).\n",
    "        \n",
    "        Input:\n",
    "        searchQuote : The input quote to be searched for from our dataset.\n",
    "        \n",
    "        Returns :\n",
    "        sourceQuote : The author of the quote if found. If not, None.\n",
    "        \n",
    "        \"\"\"\n",
    "        \n",
    "        if searchQuote in self.dictData.keys():\n",
    "            return self.dictData[searchQuote]\n",
    "        else :\n",
    "            return \"None\"\n",
    "        \n",
    "        \n",
    "    "
   ]
  },
  {
   "cell_type": "code",
   "execution_count": 3,
   "metadata": {},
   "outputs": [],
   "source": [
    "def main():\n",
    "    q1 = Quotes(\"cleanedData.csv\")\n",
    "    q1.getData()\n",
    "    q1.prepareSearch()\n",
    "    userQuote = input(\"Enter your quote : \")\n",
    "    source = q1.searchQuote(userQuote)\n",
    "    if source == \"None\":\n",
    "        print(\"Quote not found.\")\n",
    "    else: \n",
    "        print(\"The author of this quote is : \",source[0])"
   ]
  },
  {
   "cell_type": "code",
   "execution_count": 4,
   "metadata": {},
   "outputs": [
    {
     "name": "stdout",
     "output_type": "stream",
     "text": [
      "Enter your quote : A friend is someone who knows all about you and still loves you.\n",
      "The author of this quote is :  Elbert Hubbard\n"
     ]
    }
   ],
   "source": [
    "if __name__ == \"__main__\":\n",
    "    main()"
   ]
  },
  {
   "cell_type": "code",
   "execution_count": null,
   "metadata": {},
   "outputs": [],
   "source": []
  }
 ],
 "metadata": {
  "kernelspec": {
   "display_name": "Python 3",
   "language": "python",
   "name": "python3"
  },
  "language_info": {
   "codemirror_mode": {
    "name": "ipython",
    "version": 3
   },
   "file_extension": ".py",
   "mimetype": "text/x-python",
   "name": "python",
   "nbconvert_exporter": "python",
   "pygments_lexer": "ipython3",
   "version": "3.8.3"
  }
 },
 "nbformat": 4,
 "nbformat_minor": 4
}
